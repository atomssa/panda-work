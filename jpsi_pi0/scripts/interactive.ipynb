{
 "metadata": {
  "name": "",
  "signature": "sha256:d540be96f2633e9719bd6073d1182fa45ae00254327ab8c6c0e3e5cd8485391a"
 },
 "nbformat": 3,
 "nbformat_minor": 0,
 "worksheets": [
  {
   "cells": [
    {
     "cell_type": "code",
     "collapsed": false,
     "input": [
      "import anav2"
     ],
     "language": "python",
     "metadata": {},
     "outputs": [],
     "prompt_number": 1
    },
    {
     "cell_type": "code",
     "collapsed": false,
     "input": [
      "reload(anav2)\n",
      "anav2.test_dict()"
     ],
     "language": "python",
     "metadata": {},
     "outputs": [
      {
       "output_type": "stream",
       "stream": "stdout",
       "text": [
        "TEST (number of entries) OK!\n"
       ]
      }
     ],
     "prompt_number": 2
    },
    {
     "cell_type": "code",
     "collapsed": false,
     "input": [
      "reload(anav2)\n",
      "anav2.run_parallel()"
     ],
     "language": "python",
     "metadata": {},
     "outputs": [
      {
       "output_type": "stream",
       "stream": "stdout",
       "text": [
        "[(0, 0, 1, 0, 9685), (0, 0, 1, 1, 9869), (0, 0, 1, 2, 9942), (0, 0, 1, 3, 6504)]\n",
        "OK: nev tot checks out, launching ana on 4 files!\n",
        "========================\n",
        "[(1, 0, 1, 0, 9000)]\n",
        "OK: nev tot checks out, launching ana on 1 files!\n",
        "========================\n",
        "[(2, 0, 1, 0, 4500)]\n",
        "OK: nev tot checks out, launching ana on 1 files!\n",
        "========================\n",
        "[(0, 1, 1, 0, 10000), (0, 1, 1, 1, 10000), (0, 1, 1, 2, 8040)]\n",
        "OK: nev tot checks out, launching ana on 3 files!\n",
        "========================\n",
        "[(1, 1, 1, 0, 10000), (1, 1, 1, 1, 10000), (1, 1, 1, 2, 10000), (1, 1, 1, 3, 10000), (1, 1, 1, 4, 3013)]\n",
        "OK: nev tot checks out, launching ana on 5 files!\n",
        "========================\n",
        "[(2, 1, 1, 0, 10000), (2, 1, 1, 1, 10000), (2, 1, 1, 2, 10000), (2, 1, 1, 3, 10000), (2, 1, 1, 4, 4525)]\n",
        "OK: nev tot checks out, launching ana on 5 files!\n",
        "========================\n"
       ]
      }
     ],
     "prompt_number": 3
    },
    {
     "cell_type": "code",
     "collapsed": false,
     "input": [],
     "language": "python",
     "metadata": {},
     "outputs": []
    }
   ],
   "metadata": {}
  }
 ]
}