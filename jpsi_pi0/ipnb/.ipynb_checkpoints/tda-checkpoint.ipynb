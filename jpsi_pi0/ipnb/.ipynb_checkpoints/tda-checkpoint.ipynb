{
 "metadata": {
  "name": "",
  "signature": "sha256:24344fa2c0a5ba8c9295f13d4353a72f2007be4fa59e527e5092db87347e9b44"
 },
 "nbformat": 3,
 "nbformat_minor": 0,
 "worksheets": []
}