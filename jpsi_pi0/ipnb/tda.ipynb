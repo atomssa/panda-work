{
 "metadata": {
  "name": "",
  "signature": "sha256:afbd3c2be36b8e03f9ebfc0e1d257449199556f9f98d1e0523c3c406c6e83092"
 },
 "nbformat": 3,
 "nbformat_minor": 0,
 "worksheets": [
  {
   "cells": [
    {
     "cell_type": "code",
     "collapsed": false,
     "input": [
      "import matplotlib as mp\n",
      "import numpy as np\n",
      "import matplotlib.pyplot as plt\n",
      "import scipy.constants as const\n",
      "from scipy.integrate import quad"
     ],
     "language": "python",
     "metadata": {},
     "outputs": [],
     "prompt_number": 39
    },
    {
     "cell_type": "code",
     "collapsed": false,
     "input": [
      "#define some constants\n",
      "#p_beam = 5.513;\n",
      "#e_beam = hypot(Mp, p_beam);\n",
      "#s = 2*Mp*e_beam + 2*Mp*Mp;\n",
      "#sqrt_s = sqrt(s);\n",
      "s = 20;\n",
      "sqrt_s = sqrt(s)\n",
      "\n",
      "Mp = 0.938;\n",
      "Mp_sq = Mp*Mp;\n",
      "Mpi0 = 0.135;\n",
      "Mpi0_sq = Mpi0*Mpi0;\n",
      "Mjpsi = 3.097;\n",
      "Mjpsi2 = Mjpsi*Mjpsi;\n",
      "m_pi = 3.14159;\n",
      "fpi = 0.093; # GeV\n",
      "fpsi = 0.413; #GeV\n",
      "fN = 0.005; #GeV\n",
      "gpiNN = 13;\n",
      "M0 = 8776.88; #//GeV\n",
      "alpha_s = 0.25;\n",
      "M = 3.0; #GeV\n",
      "C = pow(4.0*pi*alpha_s,3)*fN*fN*fpsi*10.0/fpi/81.0;\n",
      "\n",
      "_xi_aprox = M*M/(s*s*s - M*M)"
     ],
     "language": "python",
     "metadata": {},
     "outputs": [],
     "prompt_number": 60
    },
    {
     "cell_type": "code",
     "collapsed": false,
     "input": [
      "# funciton definition\n",
      "def _lambda_sq(x, y, z):\n",
      "    return x*x+y*y+z*z-2*x*y-2*x*z-2*y*z;\n",
      "\n",
      "def _xi(Q, mv): #mv = mandlestam variable = Del_sq\n",
      "    return (Q*Q - mv - Mp_sq)/(2.0*s*s - Q*Q - mv - 3.0*Mp_sq);\n",
      "    \n",
      "def dsig_ddelsq(Del_sq):\n",
      "    \n",
      "    #xi = _xi(Mjpsi, Del_sq)\n",
      "    xi = _xi_aprox;\n",
      "    DelT_sq = ((1-xi)/(1+xi)) * (Del_sq - 2.0*xi*( (Mp_sq/(1+xi)) - (Mpi0_sq/(1-xi)) ) );\n",
      "    \n",
      "    F1 = 1/16.0/m_pi/_lambda_sq(s,Mp_sq,Mp_sq);\n",
      "    F2 = C*C*2.0*(1+xi)/4.0/xi/pow(M, 6);\n",
      "    \n",
      "    I = fpi*gpiNN*Mp*(1-xi)*M0/(Del_sq - Mp_sq)/(1+xi);\n",
      "    Iprim = fpi*gpiNN*Mp*M0/(Del_sq - Mp_sq);\n",
      "    \n",
      "    return 1e12* F1 * F2 * ( I*I - DelT_sq*Iprim*Iprim/Mp_sq);"
     ],
     "language": "python",
     "metadata": {},
     "outputs": [],
     "prompt_number": 57
    },
    {
     "cell_type": "code",
     "collapsed": false,
     "input": [
      "#plotting\n",
      "Del_sq=linspace(-0.5,0.0,500);\n",
      "xsect=map(dsig_ddelsq,Del_sq);\n",
      "fig, ax = plt.subplots();\n",
      "ax.plot(Del_sq, xsect, 'b', label='Cross Section');\n",
      "plt.text(-0.45, dsig_ddelsq(-0.45)*1.3, r'$W^{2} = s = $ %4.0f GeV^{2}' % s, fontdict=font)\n",
      "\n"
     ],
     "language": "python",
     "metadata": {},
     "outputs": [
      {
       "metadata": {},
       "output_type": "pyout",
       "prompt_number": 62,
       "text": [
        "<matplotlib.text.Text at 0x10750a110>"
       ]
      },
      {
       "metadata": {},
       "output_type": "display_data",
       "png": "[encoded data removed]",
       "text": [
        "<matplotlib.figure.Figure at 0x1074241d0>"
       ]
      }
     ],
     "prompt_number": 62
    }
   ],
   "metadata": {}
  }
 ]
}